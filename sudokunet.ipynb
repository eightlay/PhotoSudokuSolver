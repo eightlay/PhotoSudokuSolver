{
 "cells": [
  {
   "cell_type": "markdown",
   "metadata": {},
   "source": [
    "# Model"
   ]
  },
  {
   "cell_type": "code",
   "execution_count": 2,
   "metadata": {},
   "outputs": [],
   "source": [
    "from tensorflow.keras.models import Sequential\n",
    "from tensorflow.keras.layers import Conv2D\n",
    "from tensorflow.keras.layers import MaxPooling2D\n",
    "from tensorflow.keras.layers import Activation\n",
    "from tensorflow.keras.layers import Flatten\n",
    "from tensorflow.keras.layers import Dense\n",
    "from tensorflow.keras.layers import Dropout"
   ]
  },
  {
   "cell_type": "code",
   "execution_count": 3,
   "metadata": {},
   "outputs": [],
   "source": [
    "class SudokuNet:\n",
    "    @staticmethod\n",
    "    def build(width, height, depth, classes):\n",
    "        # init the model\n",
    "        inputShape = (height, width, depth)\n",
    "        \n",
    "        return Sequential([\n",
    "            # first set of CONV => RELU => POOL layers\n",
    "            Conv2D(32, (5, 5), padding='same', \n",
    "                   input_shape=inputShape),\n",
    "            Activation('relu'),\n",
    "            MaxPooling2D(pool_size=(2, 2)),\n",
    "            \n",
    "            # second set of CONV => RELU => POOL layers\n",
    "            Conv2D(32, (3, 3), padding='same'),\n",
    "            Activation('relu'),\n",
    "            MaxPooling2D(pool_size=(2, 2)),\n",
    "            \n",
    "            # first set of FC => RELU layers\n",
    "            Flatten(),\n",
    "            Dense(64),\n",
    "            Activation('relu'),\n",
    "            Dropout(0.5),\n",
    "            \n",
    "            # softmax classifier\n",
    "            Dense(classes),\n",
    "            Activation('softmax')\n",
    "        ])"
   ]
  },
  {
   "cell_type": "markdown",
   "metadata": {},
   "source": [
    "# Digit classifier"
   ]
  },
  {
   "cell_type": "code",
   "execution_count": 9,
   "metadata": {},
   "outputs": [],
   "source": [
    "from tensorflow.keras.optimizers import Adam\n",
    "from tensorflow.keras.datasets import mnist\n",
    "from sklearn.preprocessing import LabelBinarizer\n",
    "from sklearn.metrics import classification_report\n",
    "import argparse"
   ]
  },
  {
   "cell_type": "code",
   "execution_count": 14,
   "metadata": {},
   "outputs": [
    {
     "name": "stdout",
     "output_type": "stream",
     "text": [
      "[INFO] accessing MNIST...\n",
      "Downloading data from https://storage.googleapis.com/tensorflow/tf-keras-datasets/mnist.npz\n",
      "11493376/11490434 [==============================] - 5s 0us/step\n"
     ]
    }
   ],
   "source": [
    "# initialize the initial learning rate, number of epochs to train\n",
    "# for, and batch size\n",
    "INIT_LR = 1e-3\n",
    "EPOCHS = 10\n",
    "BS = 128\n",
    "\n",
    "# grab the MNIST dataset\n",
    "print(\"[INFO] accessing MNIST...\")\n",
    "((trainData, trainLabels), (testData, testLabels)) = mnist.load_data()\n",
    "\n",
    "# add a channel (i.e., grayscale) dimension to the digits\n",
    "trainData = trainData.reshape((trainData.shape[0], 28, 28, 1))\n",
    "testData = testData.reshape((testData.shape[0], 28, 28, 1))\n",
    "\n",
    "# scale data to the range of [0, 1]\n",
    "trainData = trainData.astype(\"float32\") / 255.0\n",
    "testData = testData.astype(\"float32\") / 255.0\n",
    "\n",
    "# convert the labels from integers to vectors\n",
    "le = LabelBinarizer()\n",
    "trainLabels = le.fit_transform(trainLabels)\n",
    "testLabels = le.transform(testLabels)"
   ]
  },
  {
   "cell_type": "code",
   "execution_count": 17,
   "metadata": {},
   "outputs": [
    {
     "name": "stdout",
     "output_type": "stream",
     "text": [
      "[INFO] compiling model...\n",
      "[INFO] training network...\n",
      "Epoch 1/10\n",
      "469/469 [==============================] - 35s 74ms/step - loss: 0.4800 - accuracy: 0.8489 - val_loss: 0.0836 - val_accuracy: 0.9749\n",
      "Epoch 2/10\n",
      "469/469 [==============================] - 34s 73ms/step - loss: 0.1721 - accuracy: 0.9502 - val_loss: 0.0551 - val_accuracy: 0.9828\n",
      "Epoch 3/10\n",
      "469/469 [==============================] - 34s 73ms/step - loss: 0.1339 - accuracy: 0.9599 - val_loss: 0.0448 - val_accuracy: 0.9854\n",
      "Epoch 4/10\n",
      "469/469 [==============================] - 34s 73ms/step - loss: 0.1098 - accuracy: 0.9666 - val_loss: 0.0407 - val_accuracy: 0.9871\n",
      "Epoch 5/10\n",
      "469/469 [==============================] - 35s 74ms/step - loss: 0.0979 - accuracy: 0.9713 - val_loss: 0.0386 - val_accuracy: 0.9875\n",
      "Epoch 6/10\n",
      "469/469 [==============================] - 34s 73ms/step - loss: 0.0875 - accuracy: 0.9737 - val_loss: 0.0336 - val_accuracy: 0.9898\n",
      "Epoch 7/10\n",
      "469/469 [==============================] - 34s 73ms/step - loss: 0.0751 - accuracy: 0.9773 - val_loss: 0.0337 - val_accuracy: 0.9898\n",
      "Epoch 8/10\n",
      "469/469 [==============================] - 34s 73ms/step - loss: 0.0698 - accuracy: 0.9785 - val_loss: 0.0305 - val_accuracy: 0.9907\n",
      "Epoch 9/10\n",
      "469/469 [==============================] - 32s 69ms/step - loss: 0.0646 - accuracy: 0.9807 - val_loss: 0.0338 - val_accuracy: 0.9882\n",
      "Epoch 10/10\n",
      "469/469 [==============================] - 34s 73ms/step - loss: 0.0567 - accuracy: 0.9823 - val_loss: 0.0315 - val_accuracy: 0.9904\n"
     ]
    }
   ],
   "source": [
    "print(\"[INFO] compiling model...\")\n",
    "opt = Adam(lr=INIT_LR)\n",
    "model = SudokuNet.build(width=28, height=28, depth=1, classes=10)\n",
    "model.compile(loss=\"categorical_crossentropy\", optimizer=opt,\n",
    "    metrics=[\"accuracy\"])\n",
    "\n",
    "# train the network\n",
    "print(\"[INFO] training network...\")\n",
    "H = model.fit(\n",
    "    trainData, trainLabels,\n",
    "    validation_data=(testData, testLabels),\n",
    "    batch_size=BS,\n",
    "    epochs=EPOCHS,\n",
    "    verbose=1)"
   ]
  },
  {
   "cell_type": "code",
   "execution_count": 18,
   "metadata": {},
   "outputs": [
    {
     "name": "stdout",
     "output_type": "stream",
     "text": [
      "[INFO] evaluating network...\n",
      "              precision    recall  f1-score   support\n",
      "\n",
      "           0       0.99      1.00      0.99       980\n",
      "           1       0.99      0.99      0.99      1135\n",
      "           2       0.99      0.99      0.99      1032\n",
      "           3       1.00      0.99      0.99      1010\n",
      "           4       0.99      1.00      0.99       982\n",
      "           5       0.99      0.99      0.99       892\n",
      "           6       0.99      0.99      0.99       958\n",
      "           7       0.99      0.99      0.99      1028\n",
      "           8       0.99      0.99      0.99       974\n",
      "           9       0.99      0.98      0.98      1009\n",
      "\n",
      "    accuracy                           0.99     10000\n",
      "   macro avg       0.99      0.99      0.99     10000\n",
      "weighted avg       0.99      0.99      0.99     10000\n",
      "\n",
      "[INFO] serializing digit model...\n"
     ]
    }
   ],
   "source": [
    "# evaluate the network\n",
    "print(\"[INFO] evaluating network...\")\n",
    "predictions = model.predict(testData)\n",
    "\n",
    "print(classification_report(\n",
    "    testLabels.argmax(axis=1),\n",
    "    predictions.argmax(axis=1),\n",
    "    target_names=[str(x) for x in le.classes_]))\n",
    "\n",
    "# serialize the model to disk\n",
    "print(\"[INFO] serializing digit model...\")\n",
    "model.save(r'C:\\Coding\\Documents\\Projects\\Sudoku Solver\\digit_classifier.h5', \n",
    "           save_format=\"h5\")\n",
    "print(\"[INFO] completed\")"
   ]
  },
  {
   "cell_type": "markdown",
   "metadata": {},
   "source": [
    "# Read sudoku"
   ]
  },
  {
   "cell_type": "code",
   "execution_count": 4,
   "metadata": {},
   "outputs": [],
   "source": [
    "# import the necessary packages\n",
    "from imutils.perspective import four_point_transform\n",
    "from skimage.segmentation import clear_border\n",
    "import numpy as np\n",
    "import imutils\n",
    "import cv2\n",
    "from matplotlib import pyplot as plt"
   ]
  },
  {
   "cell_type": "code",
   "execution_count": 40,
   "metadata": {},
   "outputs": [],
   "source": [
    "def find_puzzle(image, debug=False):\n",
    "    # convert the image to grayscale and blur it slightly\n",
    "    gray = cv2.cvtColor(image, cv2.COLOR_BGR2GRAY)\n",
    "    blurred = cv2.GaussianBlur(gray, (7, 7), 3)\n",
    "    \n",
    "    # apply adaptive thresholding and then invert the threshold map\n",
    "    thresh = cv2.adaptiveThreshold(blurred, 255,\n",
    "        cv2.ADAPTIVE_THRESH_GAUSSIAN_C, cv2.THRESH_BINARY, 11, 2)\n",
    "    thresh = cv2.bitwise_not(thresh)\n",
    "    \n",
    "    # check to see if we are visualizing each step of the image\n",
    "    # processing pipeline (in this case, thresholding)\n",
    "    if debug:\n",
    "        cv2.imshow(\"Puzzle Thresh\", thresh)\n",
    "        cv2.waitKey(0)\n",
    "    \n",
    "    # find contours in the thresholded image and sort them by size in\n",
    "    # descending order\n",
    "    cnts = cv2.findContours(thresh.copy(), cv2.RETR_EXTERNAL,\n",
    "        cv2.CHAIN_APPROX_SIMPLE)\n",
    "    cnts = imutils.grab_contours(cnts)\n",
    "    cnts = sorted(cnts, key=cv2.contourArea, reverse=True)\n",
    "    \n",
    "    # initialize a contour that corresponds to the puzzle outline\n",
    "    puzzleCnt = None\n",
    "    \n",
    "    # loop over the contours\n",
    "    for c in cnts:\n",
    "        # approximate the contour\n",
    "        peri = cv2.arcLength(c, True)\n",
    "        approx = cv2.approxPolyDP(c, 0.02 * peri, True)\n",
    "        \n",
    "        # if our approximated contour has four points, then we can\n",
    "        # assume we have found the outline of the puzzle\n",
    "        if len(approx) == 4:\n",
    "            puzzleCnt = approx\n",
    "            break\n",
    "            \n",
    "    if puzzleCnt is None:\n",
    "        raise Exception((\"Could not find Sudoku puzzle outline. \"\n",
    "            \"Try debugging your thresholding and contour steps.\"))\n",
    "        \n",
    "    # check to see if we are visualizing the outline of the detected\n",
    "    # Sudoku puzzle\n",
    "    if debug:\n",
    "        # draw the contour of the puzzle on the image and then display\n",
    "        # it to our screen for visualization/debugging purposes\n",
    "        output = image.copy()\n",
    "        cv2.drawContours(output, [puzzleCnt], -1, (0, 255, 0), 2)\n",
    "        cv2.imshow(\"Puzzle Outline\", output)\n",
    "        cv2.waitKey(0)\n",
    "        \n",
    "    # apply a four point perspective transform to both the original\n",
    "    # image and grayscale image to obtain a top-down bird's eye view\n",
    "    # of the puzzle\n",
    "    puzzle = four_point_transform(image, puzzleCnt.reshape(4, 2))\n",
    "    warped = four_point_transform(gray, puzzleCnt.reshape(4, 2))\n",
    "    \n",
    "    # check to see if we are visualizing the perspective transform\n",
    "    if debug:\n",
    "        # show the output warped image (again, for debugging purposes)\n",
    "        cv2.imshow(\"Puzzle Transform\", puzzle)\n",
    "        cv2.waitKey(0)\n",
    "        \n",
    "    # return a 2-tuple of puzzle in both RGB and grayscale\n",
    "    return (puzzle, warped)"
   ]
  },
  {
   "cell_type": "markdown",
   "metadata": {},
   "source": [
    "# Recognize digits on puzzle"
   ]
  },
  {
   "cell_type": "code",
   "execution_count": 16,
   "metadata": {},
   "outputs": [],
   "source": [
    "def extract_digit(cell, debug=False):\n",
    "    # apply automatic thresholding to the cell and then clear any\n",
    "    # connected borders that touch the border of the cell\n",
    "    thresh = cv2.threshold(cell, 0, 255,\n",
    "        cv2.THRESH_BINARY_INV | cv2.THRESH_OTSU)[1]\n",
    "    thresh = clear_border(thresh)\n",
    "    \n",
    "    # check to see if we are visualizing the cell thresholding step\n",
    "    if debug:\n",
    "        cv2.imshow(\"Cell Thresh\", thresh)\n",
    "        cv2.waitKey(0)\n",
    "        \n",
    "    # find contours in the thresholded cell\n",
    "    cnts = cv2.findContours(thresh.copy(), cv2.RETR_EXTERNAL,\n",
    "        cv2.CHAIN_APPROX_SIMPLE)\n",
    "    cnts = imutils.grab_contours(cnts)\n",
    "    \n",
    "    # if no contours were found than this is an empty cell\n",
    "    if len(cnts) == 0:\n",
    "        return None\n",
    "    \n",
    "    # otherwise, find the largest contour in the cell and create a\n",
    "    # mask for the contour\n",
    "    c = max(cnts, key=cv2.contourArea)\n",
    "    mask = np.zeros(thresh.shape, dtype=\"uint8\")\n",
    "    cv2.drawContours(mask, [c], -1, 255, -1)\n",
    "    \n",
    "    # compute the percentage of masked pixels relative to the total\n",
    "    # area of the image\n",
    "    (h, w) = thresh.shape\n",
    "    percentFilled = cv2.countNonZero(mask) / float(w * h)\n",
    "    \n",
    "    # if less than 3% of the mask is filled then we are looking at\n",
    "    # noise and can safely ignore the contour\n",
    "    if percentFilled < 0.03:\n",
    "        return None\n",
    "    \n",
    "    # apply the mask to the thresholded cell\n",
    "    digit = cv2.bitwise_and(thresh, thresh, mask=mask)\n",
    "    \n",
    "    # check to see if we should visualize the masking step\n",
    "    if debug:\n",
    "        cv2.imshow(\"Digit\", digit)\n",
    "        cv2.waitKey(0)\n",
    "        \n",
    "    # return the digit to the calling function\n",
    "    return digit"
   ]
  },
  {
   "cell_type": "markdown",
   "metadata": {},
   "source": [
    "# Solver"
   ]
  },
  {
   "cell_type": "code",
   "execution_count": 5,
   "metadata": {},
   "outputs": [],
   "source": [
    "from tensorflow.keras.preprocessing.image import img_to_array\n",
    "from tensorflow.keras.models import load_model\n",
    "from sudoku import Sudoku\n",
    "import numpy as np\n",
    "import cv2\n",
    "import imutils"
   ]
  },
  {
   "cell_type": "code",
   "execution_count": 6,
   "metadata": {},
   "outputs": [],
   "source": [
    "image = cv2.imread('tests/test1.jpg')\n",
    "image = imutils.resize(image, width=600)"
   ]
  },
  {
   "cell_type": "code",
   "execution_count": 49,
   "metadata": {},
   "outputs": [],
   "source": [
    "model = load_model(r'C:\\Coding\\Documents\\Projects\\Sudoku Solver\\digit_classifier.h5')"
   ]
  },
  {
   "cell_type": "code",
   "execution_count": 50,
   "metadata": {},
   "outputs": [],
   "source": [
    "# find the puzzle in the image and then\n",
    "(puzzleImage, warped) = find_puzzle(image, debug=False)\n",
    "\n",
    "# initialize our 9x9 Sudoku board\n",
    "board = np.zeros((9, 9), dtype=\"int\")\n",
    "\n",
    "# a Sudoku puzzle is a 9x9 grid (81 individual cells), so we can\n",
    "# infer the location of each cell by dividing the warped image\n",
    "# into a 9x9 grid\n",
    "stepX = warped.shape[1] // 9\n",
    "stepY = warped.shape[0] // 9\n",
    "\n",
    "# initialize a list to store the (x, y)-coordinates of each cell\n",
    "# location\n",
    "cellLocs = []\n",
    "\n",
    "# loop over the grid locations\n",
    "for y in range(0, 9):\n",
    "    # initialize the current list of cell locations\n",
    "    row = []\n",
    "    \n",
    "    for x in range(0, 9):\n",
    "        # compute the starting and ending (x, y)-coordinates of the\n",
    "        # current cell\n",
    "        startX = x * stepX\n",
    "        startY = y * stepY\n",
    "        endX = (x + 1) * stepX\n",
    "        endY = (y + 1) * stepY\n",
    "        \n",
    "        # add the (x, y)-coordinates to our cell locations list\n",
    "        row.append((startX, startY, endX, endY))\n",
    "        \n",
    "        # crop the cell from the warped transform image and then\n",
    "        # extract the digit from the cell\n",
    "        cell = warped[startY:endY, startX:endX]\n",
    "        digit = extract_digit(cell, debug=False)\n",
    "        \n",
    "        # verify that the digit is not empty\n",
    "        if digit is not None:\n",
    "            # resize the cell to 28x28 pixels and then prepare the\n",
    "            # cell for classification\n",
    "            roi = cv2.resize(digit, (28, 28))\n",
    "            roi = roi.astype(\"float\") / 255.0\n",
    "            roi = img_to_array(roi)\n",
    "            roi = np.expand_dims(roi, axis=0)\n",
    "            \n",
    "            # classify the digit and update the Sudoku board with the\n",
    "            # prediction\n",
    "            pred = model.predict(roi).argmax(axis=1)[0]\n",
    "            board[y, x] = pred\n",
    "            \n",
    "    # add the row to our cell locations\n",
    "    cellLocs.append(row)"
   ]
  },
  {
   "cell_type": "code",
   "execution_count": 51,
   "metadata": {},
   "outputs": [
    {
     "name": "stdout",
     "output_type": "stream",
     "text": [
      "[INFO] OCR'd Sudoku board:\n",
      "[INFO] solving Sudoku puzzle...\n"
     ]
    }
   ],
   "source": [
    "# construct a Sudoku puzzle from the board\n",
    "print(\"[INFO] OCR'd Sudoku board:\")\n",
    "puzzle = Sudoku(3, 3, board=board.tolist())\n",
    "# puzzle.show()\n",
    "\n",
    "# solve the Sudoku puzzle\n",
    "print(\"[INFO] solving Sudoku puzzle...\")\n",
    "solution = puzzle.solve()\n",
    "# solution.show_full()"
   ]
  },
  {
   "cell_type": "code",
   "execution_count": 52,
   "metadata": {},
   "outputs": [
    {
     "data": {
      "text/plain": [
       "-1"
      ]
     },
     "execution_count": 52,
     "metadata": {},
     "output_type": "execute_result"
    }
   ],
   "source": [
    "# loop over the cell locations and board\n",
    "for (cellRow, boardRow) in zip(cellLocs, solution.board):\n",
    "    # loop over individual cell in the row\n",
    "    for (box, digit) in zip(cellRow, boardRow):\n",
    "        # unpack the cell coordinates\n",
    "        startX, startY, endX, endY = box\n",
    "        # compute the coordinates of where the digit will be drawn\n",
    "        # on the output puzzle image\n",
    "        textX = int((endX - startX) * 0.33)\n",
    "        textY = int((endY - startY) * -0.2)\n",
    "        textX += startX\n",
    "        textY += endY\n",
    "        # draw the result digit on the Sudoku puzzle image\n",
    "        cv2.putText(puzzleImage, str(digit), (textX, textY),\n",
    "            cv2.FONT_HERSHEY_SIMPLEX, 0.9, (0, 255, 255), 2)\n",
    "        \n",
    "# show the output image\n",
    "cv2.imshow(\"Sudoku Result\", puzzleImage)\n",
    "cv2.waitKey(0)"
   ]
  },
  {
   "cell_type": "code",
   "execution_count": null,
   "metadata": {},
   "outputs": [],
   "source": []
  }
 ],
 "metadata": {
  "kernelspec": {
   "display_name": "Python 3",
   "language": "python",
   "name": "python3"
  },
  "language_info": {
   "codemirror_mode": {
    "name": "ipython",
    "version": 3
   },
   "file_extension": ".py",
   "mimetype": "text/x-python",
   "name": "python",
   "nbconvert_exporter": "python",
   "pygments_lexer": "ipython3",
   "version": "3.8.3-final"
  }
 },
 "nbformat": 4,
 "nbformat_minor": 4
}